{
  "nbformat": 4,
  "nbformat_minor": 0,
  "metadata": {
    "colab": {
      "provenance": [],
      "authorship_tag": "ABX9TyMplImj+HB3VeguBIv2PTtQ",
      "include_colab_link": true
    },
    "kernelspec": {
      "name": "python3",
      "display_name": "Python 3"
    },
    "language_info": {
      "name": "python"
    }
  },
  "cells": [
    {
      "cell_type": "markdown",
      "metadata": {
        "id": "view-in-github",
        "colab_type": "text"
      },
      "source": [
        "<a href=\"https://colab.research.google.com/github/mrudulagavas/All-About-AI-ML/blob/main/Activation_Function.ipynb\" target=\"_parent\"><img src=\"https://colab.research.google.com/assets/colab-badge.svg\" alt=\"Open In Colab\"/></a>"
      ]
    },
    {
      "cell_type": "markdown",
      "source": [
        "SIGMOID"
      ],
      "metadata": {
        "id": "caBWo2rsSLOa"
      }
    },
    {
      "cell_type": "code",
      "source": [
        "import math\n",
        "\n",
        "def sigmoid(x):\n",
        "  return 1 / (1 + math.exp(-x))"
      ],
      "metadata": {
        "id": "BMn4DPYtRYd3"
      },
      "execution_count": 1,
      "outputs": []
    },
    {
      "cell_type": "code",
      "source": [
        "sigmoid(23)"
      ],
      "metadata": {
        "colab": {
          "base_uri": "https://localhost:8080/"
        },
        "id": "quMtSuQgShl5",
        "outputId": "7cc49f79-355f-486e-909c-a664ecf2f529"
      },
      "execution_count": 2,
      "outputs": [
        {
          "output_type": "execute_result",
          "data": {
            "text/plain": [
              "0.9999999998973812"
            ]
          },
          "metadata": {},
          "execution_count": 2
        }
      ]
    },
    {
      "cell_type": "code",
      "source": [
        "sigmoid(4)"
      ],
      "metadata": {
        "colab": {
          "base_uri": "https://localhost:8080/"
        },
        "id": "y6CEhtHNSmEA",
        "outputId": "7c07abcb-8883-4478-b1ca-a3d6cbfc5774"
      },
      "execution_count": 3,
      "outputs": [
        {
          "output_type": "execute_result",
          "data": {
            "text/plain": [
              "0.9820137900379085"
            ]
          },
          "metadata": {},
          "execution_count": 3
        }
      ]
    },
    {
      "cell_type": "markdown",
      "source": [
        "Tanh"
      ],
      "metadata": {
        "id": "A43T76zyS2t6"
      }
    },
    {
      "cell_type": "code",
      "source": [
        "def tanh(x):\n",
        "  return (math.exp(x) - math.exp(-x)) / (math.exp(x) + math.exp(-x))"
      ],
      "metadata": {
        "id": "e1u8xg44S6VF"
      },
      "execution_count": 4,
      "outputs": []
    },
    {
      "cell_type": "code",
      "source": [
        "tanh(-48)"
      ],
      "metadata": {
        "colab": {
          "base_uri": "https://localhost:8080/"
        },
        "id": "JaY-wwfgTCEX",
        "outputId": "50e1f108-1916-48dd-c6bd-af5e3d7f780f"
      },
      "execution_count": 5,
      "outputs": [
        {
          "output_type": "execute_result",
          "data": {
            "text/plain": [
              "-1.0"
            ]
          },
          "metadata": {},
          "execution_count": 5
        }
      ]
    },
    {
      "cell_type": "code",
      "source": [
        "tanh(1)"
      ],
      "metadata": {
        "colab": {
          "base_uri": "https://localhost:8080/"
        },
        "id": "_UyA3TrKTIVA",
        "outputId": "9d51704c-11d6-46fb-d86c-fd38348db13d"
      },
      "execution_count": 6,
      "outputs": [
        {
          "output_type": "execute_result",
          "data": {
            "text/plain": [
              "0.7615941559557649"
            ]
          },
          "metadata": {},
          "execution_count": 6
        }
      ]
    },
    {
      "cell_type": "markdown",
      "source": [
        "Relu"
      ],
      "metadata": {
        "id": "WPCwMNTmTLxj"
      }
    },
    {
      "cell_type": "code",
      "source": [
        "def relu(x):\n",
        "    return max(0,x)"
      ],
      "metadata": {
        "id": "LSdsa8mRTLSx"
      },
      "execution_count": 7,
      "outputs": []
    },
    {
      "cell_type": "code",
      "source": [
        "relu(-100)"
      ],
      "metadata": {
        "colab": {
          "base_uri": "https://localhost:8080/"
        },
        "id": "AeShhEDCTYaz",
        "outputId": "53a0948f-0c15-4ae9-dd4a-de95dd133329"
      },
      "execution_count": 8,
      "outputs": [
        {
          "output_type": "execute_result",
          "data": {
            "text/plain": [
              "0"
            ]
          },
          "metadata": {},
          "execution_count": 8
        }
      ]
    },
    {
      "cell_type": "code",
      "source": [
        "relu(4)"
      ],
      "metadata": {
        "colab": {
          "base_uri": "https://localhost:8080/"
        },
        "id": "S6Rj2vKwTdC-",
        "outputId": "8ce9c22b-ba1e-4ae5-d265-05fcb9149add"
      },
      "execution_count": 9,
      "outputs": [
        {
          "output_type": "execute_result",
          "data": {
            "text/plain": [
              "4"
            ]
          },
          "metadata": {},
          "execution_count": 9
        }
      ]
    },
    {
      "cell_type": "markdown",
      "source": [
        "Leaky Relu"
      ],
      "metadata": {
        "id": "hXmrOSUWThHO"
      }
    },
    {
      "cell_type": "code",
      "source": [
        "def leaky_relu(x):\n",
        "    return max(0.1*x,x)"
      ],
      "metadata": {
        "id": "d0NKO80cTguC"
      },
      "execution_count": 10,
      "outputs": []
    },
    {
      "cell_type": "code",
      "source": [
        "leaky_relu(-100)"
      ],
      "metadata": {
        "colab": {
          "base_uri": "https://localhost:8080/"
        },
        "id": "1VpWAEo2Tr9V",
        "outputId": "850e07d3-e53c-4a05-8f30-5a82aa149203"
      },
      "execution_count": 11,
      "outputs": [
        {
          "output_type": "execute_result",
          "data": {
            "text/plain": [
              "-10.0"
            ]
          },
          "metadata": {},
          "execution_count": 11
        }
      ]
    },
    {
      "cell_type": "code",
      "source": [
        "leaky_relu(8)"
      ],
      "metadata": {
        "colab": {
          "base_uri": "https://localhost:8080/"
        },
        "id": "X-XZYHa1Tw9H",
        "outputId": "ca9daade-c2b7-4b8a-a5bf-9e9957e0462f"
      },
      "execution_count": 12,
      "outputs": [
        {
          "output_type": "execute_result",
          "data": {
            "text/plain": [
              "8"
            ]
          },
          "metadata": {},
          "execution_count": 12
        }
      ]
    },
    {
      "cell_type": "markdown",
      "source": [
        "ELU"
      ],
      "metadata": {
        "id": "uGdgnmzcT24v"
      }
    },
    {
      "cell_type": "code",
      "source": [
        "import numpy as np\n",
        "def elu(x, alpha=1.0):\n",
        "    return np.where(x > 0, x, alpha * (np.exp(x) - 1))\n"
      ],
      "metadata": {
        "id": "cKbQCYaQbR_y"
      },
      "execution_count": 13,
      "outputs": []
    },
    {
      "cell_type": "code",
      "source": [
        "elu(40)"
      ],
      "metadata": {
        "colab": {
          "base_uri": "https://localhost:8080/"
        },
        "id": "wGQmYXdPbbzW",
        "outputId": "269d5c2d-49ef-4877-ca27-c145209e954e"
      },
      "execution_count": 14,
      "outputs": [
        {
          "output_type": "execute_result",
          "data": {
            "text/plain": [
              "array(40.)"
            ]
          },
          "metadata": {},
          "execution_count": 14
        }
      ]
    },
    {
      "cell_type": "code",
      "source": [
        "elu(-50)"
      ],
      "metadata": {
        "colab": {
          "base_uri": "https://localhost:8080/"
        },
        "id": "9c4fQG9EbsZ0",
        "outputId": "50a51aa7-0ed2-48bb-9125-5ae24e015ded"
      },
      "execution_count": 17,
      "outputs": [
        {
          "output_type": "execute_result",
          "data": {
            "text/plain": [
              "array(-1.)"
            ]
          },
          "metadata": {},
          "execution_count": 17
        }
      ]
    },
    {
      "cell_type": "markdown",
      "source": [
        "Swish"
      ],
      "metadata": {
        "id": "fvjwspKabzBt"
      }
    },
    {
      "cell_type": "code",
      "source": [
        "def swish(x):\n",
        "    return x * sigmoid(x)\n"
      ],
      "metadata": {
        "id": "zseiJMn4byq4"
      },
      "execution_count": 18,
      "outputs": []
    },
    {
      "cell_type": "code",
      "source": [
        "swish(37)"
      ],
      "metadata": {
        "colab": {
          "base_uri": "https://localhost:8080/"
        },
        "id": "c2A17NOFb7MZ",
        "outputId": "ff1e617a-0f76-42ed-eb33-b7c68ad42c29"
      },
      "execution_count": 19,
      "outputs": [
        {
          "output_type": "execute_result",
          "data": {
            "text/plain": [
              "37.0"
            ]
          },
          "metadata": {},
          "execution_count": 19
        }
      ]
    },
    {
      "cell_type": "code",
      "source": [
        "swish(-10)"
      ],
      "metadata": {
        "colab": {
          "base_uri": "https://localhost:8080/"
        },
        "id": "8Ji4TWIsb_Y-",
        "outputId": "d03c78f5-66b5-4325-99da-5f79cd530115"
      },
      "execution_count": 21,
      "outputs": [
        {
          "output_type": "execute_result",
          "data": {
            "text/plain": [
              "-0.00045397868702434395"
            ]
          },
          "metadata": {},
          "execution_count": 21
        }
      ]
    },
    {
      "cell_type": "markdown",
      "source": [
        "Gelu"
      ],
      "metadata": {
        "id": "dD_svR4dcDwr"
      }
    },
    {
      "cell_type": "code",
      "source": [
        "def gelu(x):\n",
        "    return 0.5 * x * (1 + np.tanh(np.sqrt(2 / np.pi) * (x + 0.044715 * x**3)))\n"
      ],
      "metadata": {
        "id": "22KwWdHJcDRz"
      },
      "execution_count": 22,
      "outputs": []
    },
    {
      "cell_type": "code",
      "source": [
        "gelu(8)"
      ],
      "metadata": {
        "colab": {
          "base_uri": "https://localhost:8080/"
        },
        "id": "EshmEK4acMs3",
        "outputId": "0c9f486a-f213-4123-9609-34bbe84a130c"
      },
      "execution_count": 23,
      "outputs": [
        {
          "output_type": "execute_result",
          "data": {
            "text/plain": [
              "np.float64(8.0)"
            ]
          },
          "metadata": {},
          "execution_count": 23
        }
      ]
    },
    {
      "cell_type": "code",
      "source": [
        "gelu(-4)"
      ],
      "metadata": {
        "colab": {
          "base_uri": "https://localhost:8080/"
        },
        "id": "5hQ77QiQcR1a",
        "outputId": "86521b7c-9116-4f5b-f5d0-6b3fc45f6ca5"
      },
      "execution_count": 25,
      "outputs": [
        {
          "output_type": "execute_result",
          "data": {
            "text/plain": [
              "np.float64(-7.02459481924933e-05)"
            ]
          },
          "metadata": {},
          "execution_count": 25
        }
      ]
    },
    {
      "cell_type": "markdown",
      "source": [
        "Softmax"
      ],
      "metadata": {
        "id": "KHw0ZHXOcXg3"
      }
    },
    {
      "cell_type": "code",
      "source": [
        "def softmax(x):\n",
        "    exps = np.exp(x - np.max(x))  # for numerical stability\n",
        "    return exps / np.sum(exps, axis=0)\n"
      ],
      "metadata": {
        "id": "LWyihkZ7cZe8"
      },
      "execution_count": 26,
      "outputs": []
    },
    {
      "cell_type": "code",
      "source": [
        "softmax(5)"
      ],
      "metadata": {
        "colab": {
          "base_uri": "https://localhost:8080/"
        },
        "id": "VGv48Hfscdkz",
        "outputId": "8bf23e1f-4954-4603-d18a-9a86b2288ce4"
      },
      "execution_count": 27,
      "outputs": [
        {
          "output_type": "execute_result",
          "data": {
            "text/plain": [
              "np.float64(1.0)"
            ]
          },
          "metadata": {},
          "execution_count": 27
        }
      ]
    },
    {
      "cell_type": "code",
      "source": [
        "softmax(-6)"
      ],
      "metadata": {
        "colab": {
          "base_uri": "https://localhost:8080/"
        },
        "id": "8P54Kgfjcgft",
        "outputId": "ed03ad3e-80ae-4709-f7c7-91be913caf93"
      },
      "execution_count": 28,
      "outputs": [
        {
          "output_type": "execute_result",
          "data": {
            "text/plain": [
              "np.float64(1.0)"
            ]
          },
          "metadata": {},
          "execution_count": 28
        }
      ]
    }
  ]
}
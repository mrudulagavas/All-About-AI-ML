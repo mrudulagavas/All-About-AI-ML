{
  "nbformat": 4,
  "nbformat_minor": 0,
  "metadata": {
    "colab": {
      "provenance": [],
      "authorship_tag": "ABX9TyMrH3Q4JyjhMoNqDFpu7qSv",
      "include_colab_link": true
    },
    "kernelspec": {
      "name": "python3",
      "display_name": "Python 3"
    },
    "language_info": {
      "name": "python"
    }
  },
  "cells": [
    {
      "cell_type": "markdown",
      "metadata": {
        "id": "view-in-github",
        "colab_type": "text"
      },
      "source": [
        "<a href=\"https://colab.research.google.com/github/mrudulagavas/All-About-AI-ML/blob/main/Multilayer_Perceptron.ipynb\" target=\"_parent\"><img src=\"https://colab.research.google.com/assets/colab-badge.svg\" alt=\"Open In Colab\"/></a>"
      ]
    },
    {
      "cell_type": "code",
      "execution_count": 1,
      "metadata": {
        "id": "stewb_m9Z9Cx"
      },
      "outputs": [],
      "source": [
        "import numpy as np"
      ]
    },
    {
      "cell_type": "code",
      "source": [
        "def sigmoid(x):\n",
        "    return 1 / (1 + np.exp(-x))"
      ],
      "metadata": {
        "id": "KML1q6ZEaTQv"
      },
      "execution_count": 2,
      "outputs": []
    },
    {
      "cell_type": "code",
      "source": [
        "def sigmoid_derivative(x):\n",
        "    return sigmoid(x) * (1 - sigmoid(x))"
      ],
      "metadata": {
        "id": "-io0Qv80aXHT"
      },
      "execution_count": 3,
      "outputs": []
    },
    {
      "cell_type": "code",
      "source": [
        "class MLP:\n",
        "    def __init__(self, input_size, hidden_size, output_size, learning_rate=0.01, n_iters=1000):\n",
        "        self.lr = learning_rate\n",
        "        self.n_iters = n_iters\n",
        "\n",
        "        # Weights and biases initialization\n",
        "        self.W1 = np.random.randn(input_size, hidden_size)\n",
        "        self.b1 = np.zeros((1, hidden_size))\n",
        "\n",
        "        self.W2 = np.random.randn(hidden_size, output_size)\n",
        "        self.b2 = np.zeros((1, output_size))\n",
        "\n",
        "    def fit(self, X, y):\n",
        "        y = y.reshape(-1, 1)  # Ensure column vector\n",
        "        for _ in range(self.n_iters):\n",
        "            # ---- Forward pass ----\n",
        "            z1 = np.dot(X, self.W1) + self.b1\n",
        "            a1 = sigmoid(z1)\n",
        "\n",
        "            z2 = np.dot(a1, self.W2) + self.b2\n",
        "            a2 = sigmoid(z2)\n",
        "\n",
        "            # ---- Backward pass ----\n",
        "            error = a2 - y\n",
        "            d_z2 = error * sigmoid_derivative(z2)\n",
        "            d_W2 = np.dot(a1.T, d_z2)\n",
        "            d_b2 = np.sum(d_z2, axis=0, keepdims=True)\n",
        "\n",
        "            d_a1 = np.dot(d_z2, self.W2.T)\n",
        "            d_z1 = d_a1 * sigmoid_derivative(z1)\n",
        "            d_W1 = np.dot(X.T, d_z1)\n",
        "            d_b1 = np.sum(d_z1, axis=0, keepdims=True)\n",
        "\n",
        "            # ---- Update weights ----\n",
        "            self.W2 -= self.lr * d_W2\n",
        "            self.b2 -= self.lr * d_b2\n",
        "            self.W1 -= self.lr * d_W1\n",
        "            self.b1 -= self.lr * d_b1\n",
        "\n",
        "    def predict(self, X):\n",
        "        z1 = np.dot(X, self.W1) + self.b1\n",
        "        a1 = sigmoid(z1)\n",
        "        z2 = np.dot(a1, self.W2) + self.b2\n",
        "        a2 = sigmoid(z2)\n",
        "        return (a2 > 0.5).astype(int).flatten()"
      ],
      "metadata": {
        "id": "LO2l79B9acBb"
      },
      "execution_count": 4,
      "outputs": []
    },
    {
      "cell_type": "markdown",
      "source": [
        "Testing with Scikit-learn"
      ],
      "metadata": {
        "id": "3TE1ID8waln-"
      }
    },
    {
      "cell_type": "code",
      "source": [
        "from sklearn.datasets import make_blobs\n",
        "from sklearn.model_selection import train_test_split"
      ],
      "metadata": {
        "id": "3RYJWXXTahjz"
      },
      "execution_count": 5,
      "outputs": []
    },
    {
      "cell_type": "code",
      "source": [
        "# Create data\n",
        "X, y = make_blobs(n_samples=200, centers=2, n_features=2, random_state=42)\n",
        "X_train, X_test, y_train, y_test = train_test_split(X, y, test_size=0.2, random_state=42)"
      ],
      "metadata": {
        "id": "ISjqTteNatdx"
      },
      "execution_count": 6,
      "outputs": []
    },
    {
      "cell_type": "code",
      "source": [
        "# Train\n",
        "mlp = MLP(input_size=2, hidden_size=5, output_size=1, learning_rate=0.1, n_iters=1000)\n",
        "mlp.fit(X_train, y_train)"
      ],
      "metadata": {
        "id": "9Lvp4_Pway-n"
      },
      "execution_count": 7,
      "outputs": []
    },
    {
      "cell_type": "code",
      "source": [
        "# Predict\n",
        "y_pred = mlp.predict(X_test)\n",
        "accuracy = np.mean(y_pred == y_test)\n",
        "print(\"MLP Accuracy:\", accuracy)"
      ],
      "metadata": {
        "colab": {
          "base_uri": "https://localhost:8080/"
        },
        "id": "N1U5eqm1a3dT",
        "outputId": "15d7d4b8-e724-4e3d-82e7-38bbd905d76c"
      },
      "execution_count": 8,
      "outputs": [
        {
          "output_type": "stream",
          "name": "stdout",
          "text": [
            "MLP Accuracy: 1.0\n"
          ]
        }
      ]
    }
  ]
}
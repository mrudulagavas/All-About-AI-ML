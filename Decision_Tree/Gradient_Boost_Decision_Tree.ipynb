{
  "nbformat": 4,
  "nbformat_minor": 0,
  "metadata": {
    "colab": {
      "provenance": [],
      "authorship_tag": "ABX9TyMr0W4niSFuK7akJGlg/iZ0",
      "include_colab_link": true
    },
    "kernelspec": {
      "name": "python3",
      "display_name": "Python 3"
    },
    "language_info": {
      "name": "python"
    }
  },
  "cells": [
    {
      "cell_type": "markdown",
      "metadata": {
        "id": "view-in-github",
        "colab_type": "text"
      },
      "source": [
        "<a href=\"https://colab.research.google.com/github/mrudulagavas/All-About-AI-ML/blob/main/Gradient_Boost_Decision_Tree.ipynb\" target=\"_parent\"><img src=\"https://colab.research.google.com/assets/colab-badge.svg\" alt=\"Open In Colab\"/></a>"
      ]
    },
    {
      "cell_type": "code",
      "source": [
        "import numpy as np\n",
        "from collections import Counter"
      ],
      "metadata": {
        "id": "ag4gTT-AeDCU"
      },
      "execution_count": 7,
      "outputs": []
    },
    {
      "cell_type": "code",
      "source": [
        "import numpy as np\n",
        "from collections import Counter\n",
        "\n",
        "class Node:\n",
        "    def __init__(self, feature=None, threshold=None, left=None, right=None,*,value=None):\n",
        "        self.feature = feature\n",
        "        self.threshold = threshold\n",
        "        self.left = left\n",
        "        self.right = right\n",
        "        self.value = value\n",
        "\n",
        "    def is_leaf_node(self):\n",
        "        return self.value is not None"
      ],
      "metadata": {
        "id": "g-4X78cMeHv1"
      },
      "execution_count": 8,
      "outputs": []
    },
    {
      "cell_type": "markdown",
      "source": [
        "Decision Tree Class"
      ],
      "metadata": {
        "id": "SNfqh6WWdQua"
      }
    },
    {
      "cell_type": "code",
      "execution_count": 9,
      "metadata": {
        "id": "QGlxfh-sczlF"
      },
      "outputs": [],
      "source": [
        "class DecisionTree:\n",
        "    def __init__(self, min_samples_split=2, max_depth=100, n_features=None):\n",
        "        self.min_samples_split = min_samples_split\n",
        "        self.max_depth = max_depth\n",
        "        self.n_features = n_features\n",
        "        self.root = None\n",
        "\n",
        "    def fit(self, X, y):\n",
        "        self.n_features = X.shape[1] if not self.n_features else min(X.shape[1], self.n_features)\n",
        "        self.root = self._grow_tree(X, y)\n",
        "\n",
        "    class Node:\n",
        "        def __init__(self, feature=None, threshold=None, left=None, right=None, value=None):\n",
        "            self.feature = feature\n",
        "            self.threshold = threshold\n",
        "            self.left = left\n",
        "            self.right = right\n",
        "            self.value = value\n",
        "\n",
        "        def is_leaf_node(self):\n",
        "            return self.value is not None\n",
        "\n",
        "    def _grow_tree(self, X, y, depth=0):\n",
        "        n_samples, n_feats = X.shape\n",
        "\n",
        "        if depth >= self.max_depth or n_samples < self.min_samples_split:\n",
        "            leaf_value = self._mean_value(y)\n",
        "            return self.Node(value=leaf_value)\n",
        "\n",
        "        feat_idxs = np.random.choice(n_feats, self.n_features, replace=False)\n",
        "        best_feature, best_thresh = self._best_split(X, y, feat_idxs)\n",
        "\n",
        "        if best_feature is None:\n",
        "            return self.Node(value=self._mean_value(y))\n",
        "\n",
        "        left_idxs, right_idxs = self._split(X[:, best_feature], best_thresh)\n",
        "        left = self._grow_tree(X[left_idxs], y[left_idxs], depth + 1)\n",
        "        right = self._grow_tree(X[right_idxs], y[right_idxs], depth + 1)\n",
        "        return self.Node(best_feature, best_thresh, left, right)\n",
        "\n",
        "    def _best_split(self, X, y, feat_idxs):\n",
        "        best_var_red = -1\n",
        "        split_idx, split_thresh = None, None\n",
        "\n",
        "        for feat_idx in feat_idxs:\n",
        "            X_column = X[:, feat_idx]\n",
        "            thresholds = np.unique(X_column)\n",
        "\n",
        "            for threshold in thresholds:\n",
        "                left_idxs, right_idxs = self._split(X_column, threshold)\n",
        "                if len(left_idxs) == 0 or len(right_idxs) == 0:\n",
        "                    continue\n",
        "\n",
        "                var_red = self._variance_reduction(y, left_idxs, right_idxs)\n",
        "                if var_red > best_var_red:\n",
        "                    best_var_red = var_red\n",
        "                    split_idx = feat_idx\n",
        "                    split_thresh = threshold\n",
        "\n",
        "        return split_idx, split_thresh\n",
        "\n",
        "    def _variance_reduction(self, y, left_idxs, right_idxs):\n",
        "        var_total = np.var(y)\n",
        "        var_left = np.var(y[left_idxs])\n",
        "        var_right = np.var(y[right_idxs])\n",
        "        n, n_l, n_r = len(y), len(left_idxs), len(right_idxs)\n",
        "\n",
        "        weighted_var = (n_l / n) * var_left + (n_r / n) * var_right\n",
        "        return var_total - weighted_var\n",
        "\n",
        "    def _split(self, X_column, threshold):\n",
        "        left_idxs = np.argwhere(X_column <= threshold).flatten()\n",
        "        right_idxs = np.argwhere(X_column > threshold).flatten()\n",
        "        return left_idxs, right_idxs\n",
        "\n",
        "    def _mean_value(self, y):\n",
        "        return np.mean(y)\n",
        "\n",
        "    def predict(self, X):\n",
        "        return np.array([self._traverse_tree(x, self.root) for x in X])\n",
        "\n",
        "    def _traverse_tree(self, x, node):\n",
        "        if node.is_leaf_node():\n",
        "            return node.value\n",
        "\n",
        "        if x[node.feature] <= node.threshold:\n",
        "            return self._traverse_tree(x, node.left)\n",
        "        return self._traverse_tree(x, node.right)\n"
      ]
    },
    {
      "cell_type": "markdown",
      "source": [
        "Gradient Boost Class"
      ],
      "metadata": {
        "id": "19hw3uuPdVb3"
      }
    },
    {
      "cell_type": "code",
      "source": [
        "class GradientBoostedTrees:\n",
        "    def __init__(self, n_estimators=100, learning_rate=0.1, max_depth=3):\n",
        "        self.n_estimators = n_estimators\n",
        "        self.learning_rate = learning_rate\n",
        "        self.max_depth = max_depth\n",
        "        self.trees = []\n",
        "\n",
        "    def _sigmoid(self, x):\n",
        "        return 1 / (1 + np.exp(-x))\n",
        "\n",
        "    def fit(self, X, y):\n",
        "        # Initialize with 0 prediction (logit = 0 => prob = 0.5)\n",
        "        self.F0 = np.full(y.shape, 0.0)\n",
        "        self.trees = []\n",
        "        Fm = self.F0.copy()\n",
        "\n",
        "        for _ in range(self.n_estimators):\n",
        "            # Compute pseudo-residuals (negative gradient of log-loss)\n",
        "            p = self._sigmoid(Fm)\n",
        "            residuals = y - p\n",
        "\n",
        "            # Fit tree to residuals\n",
        "            tree = DecisionTree(max_depth=self.max_depth)\n",
        "            tree.fit(X, residuals)\n",
        "            prediction = tree.predict(X)\n",
        "\n",
        "            # Update model with scaled tree prediction\n",
        "            Fm += self.learning_rate * prediction\n",
        "            self.trees.append(tree)\n",
        "\n",
        "    def predict_proba(self, X):\n",
        "        Fm = np.full((X.shape[0],), 0.0)\n",
        "        for tree in self.trees:\n",
        "            Fm += self.learning_rate * tree.predict(X)\n",
        "        return self._sigmoid(Fm)\n",
        "\n",
        "    def predict(self, X):\n",
        "        proba = self.predict_proba(X)\n",
        "        return (proba >= 0.5).astype(int)\n"
      ],
      "metadata": {
        "id": "l9gKdshAdE2C"
      },
      "execution_count": 10,
      "outputs": []
    },
    {
      "cell_type": "code",
      "source": [
        "from sklearn.datasets import load_breast_cancer\n",
        "from sklearn.model_selection import train_test_split"
      ],
      "metadata": {
        "id": "RPVDwSSEdcg1"
      },
      "execution_count": 11,
      "outputs": []
    },
    {
      "cell_type": "code",
      "source": [
        "# Load data\n",
        "data = load_breast_cancer()\n",
        "X, y = data.data, data.target"
      ],
      "metadata": {
        "id": "4FDkqXmCdjfH"
      },
      "execution_count": 12,
      "outputs": []
    },
    {
      "cell_type": "code",
      "source": [
        "# Train-test split\n",
        "X_train, X_test, y_train, y_test = train_test_split(X, y, test_size=0.2, random_state=42)"
      ],
      "metadata": {
        "id": "QSh52DHIdnS6"
      },
      "execution_count": 13,
      "outputs": []
    },
    {
      "cell_type": "code",
      "source": [
        "# Train GBDT\n",
        "gbdt = GradientBoostedTrees(n_estimators=10, learning_rate=0.1, max_depth=3)\n",
        "gbdt.fit(X_train, y_train)"
      ],
      "metadata": {
        "id": "fVFz1c5Xdr5Y"
      },
      "execution_count": 14,
      "outputs": []
    },
    {
      "cell_type": "code",
      "source": [
        "# Evaluate\n",
        "preds = gbdt.predict(X_test)\n",
        "accuracy = np.mean(preds == y_test)\n",
        "print(\"Gradient Boosted Trees Accuracy:\", accuracy)"
      ],
      "metadata": {
        "colab": {
          "base_uri": "https://localhost:8080/"
        },
        "id": "yFSKReePerfg",
        "outputId": "b4958b15-8988-47b4-b56e-13c5c81e92ad"
      },
      "execution_count": 15,
      "outputs": [
        {
          "output_type": "stream",
          "name": "stdout",
          "text": [
            "Gradient Boosted Trees Accuracy: 0.9473684210526315\n"
          ]
        }
      ]
    }
  ]
}
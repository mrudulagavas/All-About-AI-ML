{
  "nbformat": 4,
  "nbformat_minor": 0,
  "metadata": {
    "colab": {
      "provenance": [],
      "authorship_tag": "ABX9TyMmxYM6IXmI6wuhVLS5jFHd",
      "include_colab_link": true
    },
    "kernelspec": {
      "name": "python3",
      "display_name": "Python 3"
    },
    "language_info": {
      "name": "python"
    }
  },
  "cells": [
    {
      "cell_type": "markdown",
      "metadata": {
        "id": "view-in-github",
        "colab_type": "text"
      },
      "source": [
        "<a href=\"https://colab.research.google.com/github/mrudulagavas/All-About-AI-ML/blob/main/Backpropogation.ipynb\" target=\"_parent\"><img src=\"https://colab.research.google.com/assets/colab-badge.svg\" alt=\"Open In Colab\"/></a>"
      ]
    },
    {
      "cell_type": "markdown",
      "source": [
        "Define activation function and its derivative"
      ],
      "metadata": {
        "id": "_XiYUSAD5Si6"
      }
    },
    {
      "cell_type": "code",
      "execution_count": 1,
      "metadata": {
        "id": "b3XAI7C3470O"
      },
      "outputs": [],
      "source": [
        "import numpy as np"
      ]
    },
    {
      "cell_type": "code",
      "source": [
        "def sigmoid(x):\n",
        "    return 1 / (1 + np.exp(-x))"
      ],
      "metadata": {
        "id": "PqBRe7ws5Fgz"
      },
      "execution_count": 2,
      "outputs": []
    },
    {
      "cell_type": "code",
      "source": [
        "def sigmoid_derivative(x):\n",
        "    return sigmoid(x) * (1 - sigmoid(x))"
      ],
      "metadata": {
        "id": "MEGOduMY5JkF"
      },
      "execution_count": 3,
      "outputs": []
    },
    {
      "cell_type": "markdown",
      "source": [
        " Initialize data"
      ],
      "metadata": {
        "id": "ziS9QKFz5X3P"
      }
    },
    {
      "cell_type": "code",
      "source": [
        "X = np.array([[0, 0], [0, 1], [1, 0], [1, 1]])\n",
        "y = np.array([[0], [1], [1], [0]])"
      ],
      "metadata": {
        "id": "taQWD9C65Nii"
      },
      "execution_count": 4,
      "outputs": []
    },
    {
      "cell_type": "markdown",
      "source": [
        "Initialize weights and biases"
      ],
      "metadata": {
        "id": "ZO-nA_qY5cTT"
      }
    },
    {
      "cell_type": "code",
      "source": [
        "np.random.seed(42)\n",
        "input_size = 2\n",
        "hidden_size = 2\n",
        "output_size = 1\n",
        "learning_rate = 0.1\n",
        "epochs = 10000"
      ],
      "metadata": {
        "id": "YYLsyem_5gSu"
      },
      "execution_count": 5,
      "outputs": []
    },
    {
      "cell_type": "code",
      "source": [
        "W1 = np.random.randn(input_size, hidden_size)\n",
        "b1 = np.zeros((1, hidden_size))"
      ],
      "metadata": {
        "id": "yNNl58ga5pKZ"
      },
      "execution_count": 6,
      "outputs": []
    },
    {
      "cell_type": "code",
      "source": [
        "W2 = np.random.randn(hidden_size, output_size)\n",
        "b2 = np.zeros((1, output_size))"
      ],
      "metadata": {
        "id": "GxnJULp45qog"
      },
      "execution_count": 7,
      "outputs": []
    },
    {
      "cell_type": "markdown",
      "source": [
        "Training loop with forward and backward pass"
      ],
      "metadata": {
        "id": "_Va8gbtG5zns"
      }
    },
    {
      "cell_type": "code",
      "source": [
        "for epoch in range(epochs):\n",
        "    #Forward pass\n",
        "    z1 = X @ W1 + b1\n",
        "    a1 = sigmoid(z1)\n",
        "\n",
        "    z2 = a1 @ W2 + b2\n",
        "    a2 = sigmoid(z2)  # final prediction\n",
        "\n",
        "    #Loss\n",
        "    loss = np.mean((y - a2) ** 2)\n",
        "\n",
        "    #Backward pass\n",
        "    d_loss_a2 = 2 * (a2 - y)               # dL/da2\n",
        "    d_a2_z2 = sigmoid_derivative(z2)       # da2/dz2\n",
        "    d_z2_W2 = a1                           # dz2/dW2\n",
        "\n",
        "    d_loss_z2 = d_loss_a2 * d_a2_z2        # dL/dz2\n",
        "    d_loss_W2 = d_z2_W2.T @ d_loss_z2      # dL/dW2\n",
        "    d_loss_b2 = np.sum(d_loss_z2, axis=0, keepdims=True)\n",
        "\n",
        "    d_loss_a1 = d_loss_z2 @ W2.T\n",
        "    d_a1_z1 = sigmoid_derivative(z1)\n",
        "    d_loss_z1 = d_loss_a1 * d_a1_z1\n",
        "    d_loss_W1 = X.T @ d_loss_z1\n",
        "    d_loss_b1 = np.sum(d_loss_z1, axis=0, keepdims=True)\n",
        "\n",
        "    #Update weights and biases\n",
        "    W2 -= learning_rate * d_loss_W2\n",
        "    b2 -= learning_rate * d_loss_b2\n",
        "    W1 -= learning_rate * d_loss_W1\n",
        "    b1 -= learning_rate * d_loss_b1"
      ],
      "metadata": {
        "id": "0OhkUVDf5ukg"
      },
      "execution_count": 8,
      "outputs": []
    },
    {
      "cell_type": "code",
      "source": [
        "    if epoch % 1000 == 0:\n",
        "        print(f\"Epoch {epoch}, Loss: {loss:.4f}\")"
      ],
      "metadata": {
        "id": "03vjM9IU6SdQ"
      },
      "execution_count": 9,
      "outputs": []
    },
    {
      "cell_type": "code",
      "source": [
        "predictions = sigmoid(X @ W1 + b1) @ W2 + b2\n",
        "print(\"\\nFinal predictions:\\n\", sigmoid(predictions).round(3))"
      ],
      "metadata": {
        "colab": {
          "base_uri": "https://localhost:8080/"
        },
        "id": "Q_v4ymFQ6UQk",
        "outputId": "02c2d51b-9510-46e0-96ea-d0e7724cc363"
      },
      "execution_count": 10,
      "outputs": [
        {
          "output_type": "stream",
          "name": "stdout",
          "text": [
            "\n",
            "Final predictions:\n",
            " [[0.03 ]\n",
            " [0.498]\n",
            " [0.971]\n",
            " [0.501]]\n"
          ]
        }
      ]
    }
  ]
}
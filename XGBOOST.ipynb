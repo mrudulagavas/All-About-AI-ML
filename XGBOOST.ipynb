{
  "nbformat": 4,
  "nbformat_minor": 0,
  "metadata": {
    "colab": {
      "provenance": [],
      "authorship_tag": "ABX9TyOVV4H3AbAFCAU6mtW5KrRb",
      "include_colab_link": true
    },
    "kernelspec": {
      "name": "python3",
      "display_name": "Python 3"
    },
    "language_info": {
      "name": "python"
    }
  },
  "cells": [
    {
      "cell_type": "markdown",
      "metadata": {
        "id": "view-in-github",
        "colab_type": "text"
      },
      "source": [
        "<a href=\"https://colab.research.google.com/github/mrudulagavas/All-About-AI-ML/blob/main/XGBOOST.ipynb\" target=\"_parent\"><img src=\"https://colab.research.google.com/assets/colab-badge.svg\" alt=\"Open In Colab\"/></a>"
      ]
    },
    {
      "cell_type": "code",
      "execution_count": null,
      "metadata": {
        "colab": {
          "base_uri": "https://localhost:8080/"
        },
        "id": "RCXPyI-tz9wF",
        "outputId": "b7598177-f054-43af-cef3-0c96f74f6867"
      },
      "outputs": [
        {
          "output_type": "stream",
          "name": "stderr",
          "text": [
            "/usr/local/lib/python3.11/dist-packages/xgboost/core.py:158: UserWarning: [05:25:48] WARNING: /workspace/src/learner.cc:740: \n",
            "Parameters: { \"use_label_encoder\" } are not used.\n",
            "\n",
            "  warnings.warn(smsg, UserWarning)\n"
          ]
        },
        {
          "output_type": "stream",
          "name": "stdout",
          "text": [
            "Accuracy without hyperparameter tuning: 0.9444\n"
          ]
        }
      ],
      "source": [
        "import xgboost as xgb\n",
        "import numpy as np\n",
        "import pandas as pd\n",
        "from sklearn.model_selection import train_test_split, GridSearchCV\n",
        "from sklearn.metrics import accuracy_score\n",
        "from sklearn.datasets import load_wine\n",
        "# Load the dataset\n",
        "from sklearn.datasets import load_wine\n",
        "# Load the wine dataset (which is already available in sklearn)\n",
        "data = load_wine()\n",
        "X = data.data\n",
        "y = data.target\n",
        "# Split into training and test sets (80-20 split)\n",
        "X_train, X_test, y_train, y_test = train_test_split(X, y, test_size=0.2, random_state=42)\n",
        "# Initialize the XGBoost classifier with default parameters\n",
        "model = xgb.XGBClassifier(use_label_encoder=False, eval_metric='mlogloss')\n",
        "# Train the model\n",
        "model.fit(X_train, y_train)\n",
        "# Make predictions\n",
        "y_pred = model.predict(X_test)\n",
        "# Evaluate accuracy\n",
        "accuracy = accuracy_score(y_test, y_pred)\n",
        "print(f\"Accuracy without hyperparameter tuning: {accuracy:.4f}\")"
      ]
    },
    {
      "cell_type": "code",
      "source": [
        "# Define the parameter grid for tuning\n",
        "param_grid = {\n",
        "'max_depth': [3, 5, 7], # Depth of each tree\n",
        "'learning_rate': [0.01, 0.05, 0.1], # Rate at which trees are added\n",
        "'n_estimators': [50, 100, 200], # Number of trees in the model\n",
        "'subsample': [0.8, 0.9, 1], # Proportion of samples used for fitting each tree\n",
        "'colsample_bytree': [0.8, 0.9, 1] # Fraction of features used for each tree\n",
        "}\n",
        "# Initialize GridSearchCV with 3-fold cross-validation\n",
        "grid_search = GridSearchCV(estimator=xgb.XGBClassifier(use_label_encoder=False, eval_metric='mlogloss'),\n",
        "param_grid=param_grid,\n",
        "scoring='accuracy',\n",
        "cv=3, verbose=1, n_jobs=-1)\n",
        "# Fit the grid search to the training data\n",
        "grid_search.fit(X_train, y_train)\n",
        "# Get the best parameters found by GridSearchCV\n",
        "print(\"Best parameters found: \", grid_search.best_params_)\n"
      ],
      "metadata": {
        "colab": {
          "base_uri": "https://localhost:8080/"
        },
        "id": "F7S0ptDg0NlO",
        "outputId": "25f09562-0dcd-46bb-cc92-26daa70894f8"
      },
      "execution_count": null,
      "outputs": [
        {
          "output_type": "stream",
          "name": "stdout",
          "text": [
            "Fitting 3 folds for each of 243 candidates, totalling 729 fits\n",
            "Best parameters found:  {'colsample_bytree': 0.8, 'learning_rate': 0.01, 'max_depth': 3, 'n_estimators': 50, 'subsample': 0.8}\n"
          ]
        },
        {
          "output_type": "stream",
          "name": "stderr",
          "text": [
            "/usr/local/lib/python3.11/dist-packages/xgboost/core.py:158: UserWarning: [05:27:11] WARNING: /workspace/src/learner.cc:740: \n",
            "Parameters: { \"use_label_encoder\" } are not used.\n",
            "\n",
            "  warnings.warn(smsg, UserWarning)\n"
          ]
        }
      ]
    },
    {
      "cell_type": "code",
      "source": [
        "# Train the model with the best parameters\n",
        "best_model = grid_search.best_estimator_\n",
        "# Make predictions with the tuned model\n",
        "y_pred_tuned = best_model.predict(X_test)\n",
        "# Evaluate accuracy\n",
        "tuned_accuracy = accuracy_score(y_test, y_pred_tuned)\n",
        "print(f\"Accuracy after hyperparameter tuning: {tuned_accuracy:.4f}\")"
      ],
      "metadata": {
        "colab": {
          "base_uri": "https://localhost:8080/"
        },
        "id": "qqGxN8Wp0h0e",
        "outputId": "329871d5-455f-4b26-8d41-eae6af8a193b"
      },
      "execution_count": null,
      "outputs": [
        {
          "output_type": "stream",
          "name": "stdout",
          "text": [
            "Accuracy after hyperparameter tuning: 1.0000\n"
          ]
        }
      ]
    }
  ]
}
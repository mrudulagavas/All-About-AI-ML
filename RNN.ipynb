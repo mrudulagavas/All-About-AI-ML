{
  "nbformat": 4,
  "nbformat_minor": 0,
  "metadata": {
    "colab": {
      "provenance": [],
      "gpuType": "T4",
      "authorship_tag": "ABX9TyPoHCHZMnnPekgE3MLc9aEf",
      "include_colab_link": true
    },
    "kernelspec": {
      "name": "python3",
      "display_name": "Python 3"
    },
    "language_info": {
      "name": "python"
    },
    "accelerator": "GPU"
  },
  "cells": [
    {
      "cell_type": "markdown",
      "metadata": {
        "id": "view-in-github",
        "colab_type": "text"
      },
      "source": [
        "<a href=\"https://colab.research.google.com/github/mrudulagavas/All-About-AI-ML/blob/main/RNN.ipynb\" target=\"_parent\"><img src=\"https://colab.research.google.com/assets/colab-badge.svg\" alt=\"Open In Colab\"/></a>"
      ]
    },
    {
      "cell_type": "code",
      "source": [
        "import pandas as pd\n",
        "import numpy as np\n",
        "\n",
        "# Read in our data, and fill missing values\n",
        "data = pd.read_csv(\"clean_weather.csv\", index_col=0)\n",
        "data = data.ffill()\n",
        "\n",
        "# Display a sequence of temperatures\n",
        "data[\"tmax\"].head(10)"
      ],
      "metadata": {
        "colab": {
          "base_uri": "https://localhost:8080/",
          "height": 397
        },
        "id": "ewP2kA7mzv18",
        "outputId": "c6183370-2939-4bf0-ad18-237bc930a520"
      },
      "execution_count": 79,
      "outputs": [
        {
          "output_type": "execute_result",
          "data": {
            "text/plain": [
              "1970-01-01    60.0\n",
              "1970-01-02    52.0\n",
              "1970-01-03    52.0\n",
              "1970-01-04    53.0\n",
              "1970-01-05    52.0\n",
              "1970-01-06    50.0\n",
              "1970-01-07    52.0\n",
              "1970-01-08    56.0\n",
              "1970-01-09    54.0\n",
              "1970-01-10    57.0\n",
              "Name: tmax, dtype: float64"
            ],
            "text/html": [
              "<div>\n",
              "<style scoped>\n",
              "    .dataframe tbody tr th:only-of-type {\n",
              "        vertical-align: middle;\n",
              "    }\n",
              "\n",
              "    .dataframe tbody tr th {\n",
              "        vertical-align: top;\n",
              "    }\n",
              "\n",
              "    .dataframe thead th {\n",
              "        text-align: right;\n",
              "    }\n",
              "</style>\n",
              "<table border=\"1\" class=\"dataframe\">\n",
              "  <thead>\n",
              "    <tr style=\"text-align: right;\">\n",
              "      <th></th>\n",
              "      <th>tmax</th>\n",
              "    </tr>\n",
              "  </thead>\n",
              "  <tbody>\n",
              "    <tr>\n",
              "      <th>1970-01-01</th>\n",
              "      <td>60.0</td>\n",
              "    </tr>\n",
              "    <tr>\n",
              "      <th>1970-01-02</th>\n",
              "      <td>52.0</td>\n",
              "    </tr>\n",
              "    <tr>\n",
              "      <th>1970-01-03</th>\n",
              "      <td>52.0</td>\n",
              "    </tr>\n",
              "    <tr>\n",
              "      <th>1970-01-04</th>\n",
              "      <td>53.0</td>\n",
              "    </tr>\n",
              "    <tr>\n",
              "      <th>1970-01-05</th>\n",
              "      <td>52.0</td>\n",
              "    </tr>\n",
              "    <tr>\n",
              "      <th>1970-01-06</th>\n",
              "      <td>50.0</td>\n",
              "    </tr>\n",
              "    <tr>\n",
              "      <th>1970-01-07</th>\n",
              "      <td>52.0</td>\n",
              "    </tr>\n",
              "    <tr>\n",
              "      <th>1970-01-08</th>\n",
              "      <td>56.0</td>\n",
              "    </tr>\n",
              "    <tr>\n",
              "      <th>1970-01-09</th>\n",
              "      <td>54.0</td>\n",
              "    </tr>\n",
              "    <tr>\n",
              "      <th>1970-01-10</th>\n",
              "      <td>57.0</td>\n",
              "    </tr>\n",
              "  </tbody>\n",
              "</table>\n",
              "</div><br><label><b>dtype:</b> float64</label>"
            ]
          },
          "metadata": {},
          "execution_count": 79
        }
      ]
    },
    {
      "cell_type": "code",
      "source": [
        "# Turn our sequence into a single row of data\n",
        "data[\"tmax\"].head(10).to_numpy()[np.newaxis,:]"
      ],
      "metadata": {
        "colab": {
          "base_uri": "https://localhost:8080/"
        },
        "id": "-HV_I7Ps0R5n",
        "outputId": "d9a658c3-bdda-4179-fd2b-493ac51257a7"
      },
      "execution_count": 80,
      "outputs": [
        {
          "output_type": "execute_result",
          "data": {
            "text/plain": [
              "array([[60., 52., 52., 53., 52., 50., 52., 56., 54., 57.]])"
            ]
          },
          "metadata": {},
          "execution_count": 80
        }
      ]
    },
    {
      "cell_type": "code",
      "source": [
        "data[\"tmax\"].head(6).to_numpy()[np.newaxis,:]"
      ],
      "metadata": {
        "colab": {
          "base_uri": "https://localhost:8080/"
        },
        "id": "7eKDGfrJ0VSa",
        "outputId": "af0a6d69-a97c-41b9-8ea3-9b4b427b4868"
      },
      "execution_count": 81,
      "outputs": [
        {
          "output_type": "execute_result",
          "data": {
            "text/plain": [
              "array([[60., 52., 52., 53., 52., 50.]])"
            ]
          },
          "metadata": {},
          "execution_count": 81
        }
      ]
    },
    {
      "cell_type": "code",
      "source": [
        "data[\"tmax\"].tail(10).to_numpy()[np.newaxis,:]"
      ],
      "metadata": {
        "colab": {
          "base_uri": "https://localhost:8080/"
        },
        "id": "sybC0fWR0Z1r",
        "outputId": "74500c8e-fdd3-4c89-d731-c5cc3e31d783"
      },
      "execution_count": 82,
      "outputs": [
        {
          "output_type": "execute_result",
          "data": {
            "text/plain": [
              "array([[64., 63., 62., 61., 60., 62., 67., 66., 70., 62.]])"
            ]
          },
          "metadata": {},
          "execution_count": 82
        }
      ]
    },
    {
      "cell_type": "markdown",
      "source": [
        "Forward Pass"
      ],
      "metadata": {
        "id": "YPmrmsXt13ms"
      }
    },
    {
      "cell_type": "code",
      "source": [
        "# Set a random seed so the random numbers are the same every time\n",
        "np.random.seed(0)\n",
        "# Take the input number and turn it into 2 features\n",
        "i_weight = np.random.rand(1,2)\n",
        "# Hidden to hidden weight connection - 2 features to 2 features\n",
        "h_weight = np.random.rand(2,2)\n",
        "# Output weight connection - turn 2 features into one prediction\n",
        "o_weight = np.random.rand(2,1)\n",
        "\n",
        "# Get 3 temperature values from our data\n",
        "temps = data[\"tmax\"].tail(3).to_numpy()\n",
        "temps"
      ],
      "metadata": {
        "colab": {
          "base_uri": "https://localhost:8080/"
        },
        "id": "zMdkBxG20eWc",
        "outputId": "17aca773-377b-4dce-92d6-b0286ebada21"
      },
      "execution_count": 83,
      "outputs": [
        {
          "output_type": "execute_result",
          "data": {
            "text/plain": [
              "array([66., 70., 62.])"
            ]
          },
          "metadata": {},
          "execution_count": 83
        }
      ]
    },
    {
      "cell_type": "code",
      "source": [
        "# Assign the sequence input at each time step to a different variable.\n",
        "# x0 means input at time step 0\n",
        "# Ensure that each element is a 1x1 matrix, so we can multiply it\n",
        "x0 = temps[0].reshape(1,1)\n",
        "x1 = temps[1].reshape(1,1)\n",
        "x2 = temps[2].reshape(1,1)"
      ],
      "metadata": {
        "id": "S_b6NI3i0k8T"
      },
      "execution_count": 84,
      "outputs": []
    },
    {
      "cell_type": "code",
      "source": [
        "# Calculate xi at time step 0\n",
        "xi_0 = x0 @ i_weight\n",
        "\n",
        "# There is no previous time step, so there is no hidden state\n",
        "# apply relu over the input to get the hidden state for time step 0 xh_0\n",
        "xh_0 = np.maximum(0, xi_0)\n",
        "\n",
        "# Get the output at time step 0 xo_0\n",
        "xo_0 = xh_0 @ o_weight\n",
        "\n",
        "xo_0"
      ],
      "metadata": {
        "colab": {
          "base_uri": "https://localhost:8080/"
        },
        "id": "jUruoJxR0o0g",
        "outputId": "f02f2404-cfd1-452e-ef53-6267354b6b9c"
      },
      "execution_count": 85,
      "outputs": [
        {
          "output_type": "execute_result",
          "data": {
            "text/plain": [
              "array([[57.94406231]])"
            ]
          },
          "metadata": {},
          "execution_count": 85
        }
      ]
    },
    {
      "cell_type": "code",
      "source": [
        "# We feed the input in the same way as the previous time step\n",
        "xi_1 = x1 @ i_weight\n",
        "\n",
        "# This time, we do have a previous time step, so we calculate xh\n",
        "# This is multiplying the previous hidden state xh_0 by the hidden weights\n",
        "xh = xh_0 @ h_weight\n",
        "\n",
        "# We add the previous hidden state (times h_weight) to the input at time step 1\n",
        "xh_1 = np.maximum(0, xh + xi_1)\n",
        "\n",
        "# We again find the output by multiplying xh_1 by the output weight\n",
        "xo_1 = xh_1 @ o_weight\n",
        "\n",
        "xo_1"
      ],
      "metadata": {
        "colab": {
          "base_uri": "https://localhost:8080/"
        },
        "id": "74gwYTTS0sas",
        "outputId": "57f2ca37-0b3e-48d2-a146-66b88da81d10"
      },
      "execution_count": 86,
      "outputs": [
        {
          "output_type": "execute_result",
          "data": {
            "text/plain": [
              "array([[124.54916092]])"
            ]
          },
          "metadata": {},
          "execution_count": 86
        }
      ]
    },
    {
      "cell_type": "code",
      "source": [
        "# We feed the input in the same way as the previous time step\n",
        "xi_2 = x2 @ i_weight\n",
        "\n",
        "# This time, we do have a previous time step, so we calculate xh\n",
        "# This is multiplying the previous hidden state xh_1 by the hidden weights\n",
        "xh = xh_1 @ h_weight\n",
        "\n",
        "# We add the previous hidden state (times h_weight) to the input at time step 2\n",
        "xh_2 = np.maximum(0, xh + xi_2)\n",
        "\n",
        "# We again find the output by multiplying xh_1 by the output weight\n",
        "xo_2 = xh_2 @ o_weight\n",
        "\n",
        "xo_2"
      ],
      "metadata": {
        "colab": {
          "base_uri": "https://localhost:8080/"
        },
        "id": "YL7z7Bpw0w9C",
        "outputId": "d7f37841-a89d-49e7-dfdd-6d15ae0ed20c"
      },
      "execution_count": 87,
      "outputs": [
        {
          "output_type": "execute_result",
          "data": {
            "text/plain": [
              "array([[190.94853131]])"
            ]
          },
          "metadata": {},
          "execution_count": 87
        }
      ]
    },
    {
      "cell_type": "markdown",
      "source": [
        "Nonlinearity"
      ],
      "metadata": {
        "id": "MDkSKOl_1w1G"
      }
    },
    {
      "cell_type": "code",
      "source": [
        "xh_0"
      ],
      "metadata": {
        "colab": {
          "base_uri": "https://localhost:8080/"
        },
        "id": "ywxUGFMs01Ri",
        "outputId": "80f2e72e-4609-43c7-8a19-ae6cd8db5030"
      },
      "execution_count": 88,
      "outputs": [
        {
          "output_type": "execute_result",
          "data": {
            "text/plain": [
              "array([[36.22169126, 47.20249818]])"
            ]
          },
          "metadata": {},
          "execution_count": 88
        }
      ]
    },
    {
      "cell_type": "code",
      "source": [
        "xh_2"
      ],
      "metadata": {
        "colab": {
          "base_uri": "https://localhost:8080/"
        },
        "id": "UOxdGkUF05C_",
        "outputId": "c947f7e9-83de-4889-aa5d-f154a46a8f4f"
      },
      "execution_count": 89,
      "outputs": [
        {
          "output_type": "execute_result",
          "data": {
            "text/plain": [
              "array([[124.88411227, 152.84252918]])"
            ]
          },
          "metadata": {},
          "execution_count": 89
        }
      ]
    },
    {
      "cell_type": "code",
      "source": [
        "import matplotlib.pyplot as plt\n",
        "# Define some temperature values\n",
        "temps = np.arange(-10, 10, .1)\n",
        "\n",
        "# Plot the tanh of the values\n",
        "plt.plot(temps, np.tanh(temps))"
      ],
      "metadata": {
        "colab": {
          "base_uri": "https://localhost:8080/",
          "height": 447
        },
        "id": "Xj2FFVoF08Rd",
        "outputId": "4c167a2c-d63c-434e-d883-58714042f487"
      },
      "execution_count": 90,
      "outputs": [
        {
          "output_type": "execute_result",
          "data": {
            "text/plain": [
              "[<matplotlib.lines.Line2D at 0x795ad7c98ad0>]"
            ]
          },
          "metadata": {},
          "execution_count": 90
        },
        {
          "output_type": "display_data",
          "data": {
            "text/plain": [
              "<Figure size 640x480 with 1 Axes>"
            ],
            "image/png": "[encoded data removed]"
          },
          "metadata": {}
        }
      ]
    },
    {
      "cell_type": "code",
      "source": [
        "from sympy import diff, symbols, exp\n",
        "\n",
        "x = symbols(\"x\")\n",
        "sympy_tanh = (exp(x) - exp(-x)) / (exp(x) + exp(-x))\n",
        "diff(sympy_tanh, x)"
      ],
      "metadata": {
        "colab": {
          "base_uri": "https://localhost:8080/",
          "height": 60
        },
        "id": "vaKi1StO1A0l",
        "outputId": "eee7d319-6d9d-45df-9f05-b58d53d72b86"
      },
      "execution_count": 91,
      "outputs": [
        {
          "output_type": "execute_result",
          "data": {
            "text/plain": [
              "(-exp(x) + exp(-x))*(exp(x) - exp(-x))/(exp(x) + exp(-x))**2 + 1"
            ],
            "text/latex": "$\\displaystyle \\frac{\\left(- e^{x} + e^{- x}\\right) \\left(e^{x} - e^{- x}\\right)}{\\left(e^{x} + e^{- x}\\right)^{2}} + 1$"
          },
          "metadata": {},
          "execution_count": 91
        }
      ]
    },
    {
      "cell_type": "code",
      "source": [
        "plt.plot(temps, 1 - np.tanh(temps) ** 2)"
      ],
      "metadata": {
        "colab": {
          "base_uri": "https://localhost:8080/",
          "height": 447
        },
        "id": "d07mvZti1KMu",
        "outputId": "4a25224d-5fa1-40ec-ee3a-df0ac764d567"
      },
      "execution_count": 92,
      "outputs": [
        {
          "output_type": "execute_result",
          "data": {
            "text/plain": [
              "[<matplotlib.lines.Line2D at 0x795ad4926d90>]"
            ]
          },
          "metadata": {},
          "execution_count": 92
        },
        {
          "output_type": "display_data",
          "data": {
            "text/plain": [
              "<Figure size 640x480 with 1 Axes>"
            ],
            "image/png": "[encoded data removed]"
          },
          "metadata": {}
        }
      ]
    },
    {
      "cell_type": "markdown",
      "source": [
        "Full Forward Pass"
      ],
      "metadata": {
        "id": "K3ccsN1e1qLO"
      }
    },
    {
      "cell_type": "code",
      "source": [
        "np.random.seed(0)\n",
        "\n",
        "# Define our weights and biases\n",
        "# Scale them down so values get through the tanh nonlinearity\n",
        "i_weight = np.random.rand(1,5) / 5 - .1\n",
        "h_weight = np.random.rand(5,5) / 5 - .1\n",
        "h_bias = np.random.rand(1,5) / 5 - .1\n",
        "\n",
        "# Tanh pushes values to between -1 and 1, so scale up the output weights\n",
        "o_weight = np.random.rand(5,1) * 50\n",
        "o_bias = np.random.rand(1,1)"
      ],
      "metadata": {
        "id": "mcgz_Drb1OrA"
      },
      "execution_count": 93,
      "outputs": []
    },
    {
      "cell_type": "code",
      "source": [
        "# An array to store the output predictions\n",
        "outputs = np.zeros(3)\n",
        "# An array to store hidden states for use in backpropagation\n",
        "hiddens = np.zeros((3, 5))\n",
        "\n",
        "# This will store the previous hidden state, since we'll need it to calculate the current hidden step\n",
        "prev_hidden = None\n",
        "sequence = data[\"tmax\"].tail(3).to_numpy()\n",
        "\n",
        "for i in range(3):\n",
        "    # Get the input sequence at the given position\n",
        "    x = sequence[i].reshape(1,1)\n",
        "\n",
        "    # Multiply input by input weight\n",
        "    xi = x @ i_weight\n",
        "    if prev_hidden is not None:\n",
        "        # Add previous hidden to input\n",
        "        xh = xi + prev_hidden @ h_weight + h_bias\n",
        "    else:\n",
        "        xh = xi\n",
        "\n",
        "    # Apply our activation function\n",
        "    xh = np.tanh(xh)\n",
        "    prev_hidden = xh\n",
        "    hiddens[i,] = xh\n",
        "\n",
        "    # Multiply by the output weight\n",
        "    xo = xh @ o_weight + o_bias\n",
        "    outputs[i] = xo"
      ],
      "metadata": {
        "colab": {
          "base_uri": "https://localhost:8080/"
        },
        "id": "lqyXqtO01SQK",
        "outputId": "15659ed4-0d36-4589-f7de-3c13af8c21e0"
      },
      "execution_count": 94,
      "outputs": [
        {
          "output_type": "stream",
          "name": "stderr",
          "text": [
            "/tmp/ipython-input-94-1174838102.py:29: DeprecationWarning: Conversion of an array with ndim > 0 to a scalar is deprecated, and will error in future. Ensure you extract a single element from your array before performing this operation. (Deprecated NumPy 1.25.)\n",
            "  outputs[i] = xo\n"
          ]
        }
      ]
    },
    {
      "cell_type": "code",
      "source": [
        "outputs"
      ],
      "metadata": {
        "colab": {
          "base_uri": "https://localhost:8080/"
        },
        "id": "2AXpOrNX1YHK",
        "outputId": "258fa6c9-5f91-4ca9-f047-f20ff32d83a2"
      },
      "execution_count": 95,
      "outputs": [
        {
          "output_type": "execute_result",
          "data": {
            "text/plain": [
              "array([74.31470595, 80.66149404, 77.67852446])"
            ]
          },
          "metadata": {},
          "execution_count": 95
        }
      ]
    },
    {
      "cell_type": "code",
      "source": [
        "hiddens"
      ],
      "metadata": {
        "colab": {
          "base_uri": "https://localhost:8080/"
        },
        "id": "1Zl-njrQ1bpa",
        "outputId": "d8e681b9-b3bf-4452-d234-8cc99bae4bc9"
      },
      "execution_count": 96,
      "outputs": [
        {
          "output_type": "execute_result",
          "data": {
            "text/plain": [
              "array([[ 0.56784618,  0.99320288,  0.87557333,  0.53166114, -0.76483255],\n",
              "       [ 0.58366756,  0.99568651,  0.90034879,  0.69338529, -0.84149203],\n",
              "       [ 0.5383306 ,  0.99164251,  0.86287584,  0.66091071, -0.80543591]])"
            ]
          },
          "metadata": {},
          "execution_count": 96
        }
      ]
    },
    {
      "cell_type": "markdown",
      "source": [
        "Calculating Loss"
      ],
      "metadata": {
        "id": "mUtSahOM1gnh"
      }
    },
    {
      "cell_type": "code",
      "source": [
        "def mse(actual, predicted):\n",
        "    return np.mean((actual-predicted)**2)\n",
        "\n",
        "def mse_grad(actual, predicted):\n",
        "    return (predicted - actual)"
      ],
      "metadata": {
        "id": "q20fzoR51jOj"
      },
      "execution_count": 97,
      "outputs": []
    },
    {
      "cell_type": "code",
      "source": [
        "# Actual next day temperatures\n",
        "actuals = np.array([70, 62, 65])\n",
        "\n",
        "loss_grad = mse_grad(actuals, outputs)\n",
        "loss_grad"
      ],
      "metadata": {
        "colab": {
          "base_uri": "https://localhost:8080/"
        },
        "id": "F-r5YEOK2AiQ",
        "outputId": "76a95c0a-392e-42f1-8455-335136bb38ae"
      },
      "execution_count": 98,
      "outputs": [
        {
          "output_type": "execute_result",
          "data": {
            "text/plain": [
              "array([ 4.31470595, 18.66149404, 12.67852446])"
            ]
          },
          "metadata": {},
          "execution_count": 98
        }
      ]
    },
    {
      "cell_type": "markdown",
      "source": [
        "Backward Pass"
      ],
      "metadata": {
        "id": "ywmarSzS2Bwq"
      }
    },
    {
      "cell_type": "code",
      "source": [
        "o_weight_grad, o_bias_grad, h_weight_grad, h_bias_grad, i_weight_grad = [0] * 5"
      ],
      "metadata": {
        "id": "kaGTBrdo2EwS"
      },
      "execution_count": 99,
      "outputs": []
    },
    {
      "cell_type": "code",
      "source": [
        "l2_grad = loss_grad[2].reshape(1,1)\n",
        "\n",
        "# Add to the output weight gradient\n",
        "# Multiply the output of the hidden step (hiddens[2]) transposed by the l2 grad\n",
        "# np.newaxis creates a new size 1 axis, effectively transposing the hiddens\n",
        "o_weight_grad += hiddens[2][:,np.newaxis] @ l2_grad\n",
        "# Add to the bias gradient.  Similar to a dense neural network, this is just the mean of the l2_grad.\n",
        "o_bias_grad += np.mean(l2_grad)\n",
        "\n",
        "# Find the gradient wrt the hidden step output\n",
        "h2_grad = l2_grad @ o_weight.T\n",
        "\n",
        "# Derivative of the tanh function\n",
        "tanh_deriv = 1 - hiddens[2,:][np.newaxis,:] ** 2\n",
        "# Multiply each position in the h_grad by the tanh derivative - this \"undoes\" the tanh in the forward pass\n",
        "h2_grad = np.multiply(h2_grad, tanh_deriv)\n",
        "\n",
        "# Now, find how much we need to update the hidden weights.\n",
        "# We take the input to the hidden step (the output of the previous hidden step in the forward pass) @ h2_grad\n",
        "h_weight_grad += hiddens[1,:][:,np.newaxis] @ h2_grad\n",
        "h_bias_grad += np.mean(h2_grad)\n",
        "\n",
        "# This multiples the sequence value at time step 2 by the gradient\n",
        "# We don't need the .T here, but I left it here in case you have a larger input size\n",
        "i_weight_grad += sequence[2].reshape(1,1).T @ h2_grad"
      ],
      "metadata": {
        "id": "DYWxOype2Jil"
      },
      "execution_count": 100,
      "outputs": []
    },
    {
      "cell_type": "code",
      "source": [
        "l1_grad = loss_grad[1].reshape(1,1)\n",
        "\n",
        "o_weight_grad += hiddens[1][:,np.newaxis] @ l1_grad\n",
        "o_bias_grad += np.mean(l1_grad)\n",
        "\n",
        "h1_grad = l1_grad @ o_weight.T\n",
        "\n",
        "# We do have a next sequence position (2), so we need to include that gradient\n",
        "# We multiply the h2 gradient by the weight to pull it back to the current sequence position\n",
        "h1_grad += h2_grad @ h_weight.T\n",
        "\n",
        "# The rest of the operation is the same\n",
        "tanh_deriv = 1 - hiddens[1,:][np.newaxis,:] ** 2\n",
        "h1_grad = np.multiply(h1_grad, tanh_deriv)\n",
        "\n",
        "h_weight_grad += hiddens[1,:][:,np.newaxis] @ h1_grad\n",
        "h_bias_grad += np.mean(h1_grad)\n",
        "\n",
        "i_weight_grad += sequence[1].reshape(1,1).T @ h1_grad"
      ],
      "metadata": {
        "id": "rx9qcXDM2OAN"
      },
      "execution_count": 101,
      "outputs": []
    },
    {
      "cell_type": "code",
      "source": [
        "l0_grad = loss_grad[0].reshape(1,1)\n",
        "\n",
        "o_weight_grad += hiddens[0][:,np.newaxis] @ l0_grad\n",
        "o_bias_grad += np.mean(l0_grad)\n",
        "\n",
        "h0_grad = l0_grad @ o_weight.T\n",
        "\n",
        "h0_grad += h1_grad @ h_weight.T\n",
        "\n",
        "tanh_deriv = 1 - hiddens[0,:][np.newaxis,:] ** 2\n",
        "h0_grad = np.multiply(h0_grad, tanh_deriv)\n",
        "\n",
        "# We don't update the hidden weight, since there was no previous hidden state\n",
        "# We can update the hidden bias if you want\n",
        "\n",
        "i_weight_grad += sequence[0].reshape(1,1).T @ h0_grad"
      ],
      "metadata": {
        "id": "0_SPFvQh2Ru2"
      },
      "execution_count": 102,
      "outputs": []
    },
    {
      "cell_type": "code",
      "source": [
        "i_weight_grad"
      ],
      "metadata": {
        "colab": {
          "base_uri": "https://localhost:8080/"
        },
        "id": "f8OwBWa_2Vfh",
        "outputId": "8c2f576f-96ce-4fb8-9e02-b35e3e9e162f"
      },
      "execution_count": 103,
      "outputs": [
        {
          "output_type": "execute_result",
          "data": {
            "text/plain": [
              "array([[54498.71460476,   926.96931526, 16257.75098388, 66153.99689818,\n",
              "        27292.28884188]])"
            ]
          },
          "metadata": {},
          "execution_count": 103
        }
      ]
    },
    {
      "cell_type": "markdown",
      "source": [
        "Full Backward Pass"
      ],
      "metadata": {
        "id": "bXWP5-fj2Y6D"
      }
    },
    {
      "cell_type": "code",
      "source": [
        "next_hidden = None\n",
        "\n",
        "o_weight_grad, o_bias_grad, h_weight_grad, h_bias_grad, i_weight_grad = [0] * 5\n",
        "\n",
        "for i in range(2, -1, -1):\n",
        "    l_grad = loss_grad[i].reshape(1,1)\n",
        "\n",
        "    o_weight_grad += hiddens[i][:,np.newaxis] @ l_grad\n",
        "    o_bias_grad += np.mean(l_grad)\n",
        "\n",
        "    o_grad = l_grad @ o_weight.T\n",
        "\n",
        "    # Only add in the hidden gradient if a next sequence exists\n",
        "    if next_hidden is not None:\n",
        "        h_grad = o_grad + next_hidden @ h_weight.T\n",
        "    else:\n",
        "        h_grad = o_grad\n",
        "\n",
        "    tanh_deriv = 1 - hiddens[i,:][np.newaxis,:] ** 2\n",
        "    h_grad = np.multiply(h_grad, tanh_deriv)\n",
        "\n",
        "    next_hidden = h_grad\n",
        "\n",
        "    # Don't update the hidden weights for the first sequence position\n",
        "    if i > 0:\n",
        "        h_weight_grad += hiddens[i-1,:][:,np.newaxis] @ h_grad\n",
        "        h_bias_grad += np.mean(h_grad)\n",
        "\n",
        "    i_weight_grad += sequence[i].reshape(1,1).T @ h_grad"
      ],
      "metadata": {
        "id": "vEIVgtgB2cS3"
      },
      "execution_count": 104,
      "outputs": []
    },
    {
      "cell_type": "code",
      "source": [
        "lr = 1e-6\n",
        "# We'll divide the learning rate by the sequence length, since we were adding together the gradients\n",
        "# This makes training the model more stable\n",
        "lr = lr / 3\n",
        "\n",
        "i_weight -= i_weight_grad * lr\n",
        "h_weight -= h_weight_grad * lr\n",
        "h_bias -= h_bias_grad * lr\n",
        "o_weight -= o_weight_grad * lr\n",
        "o_bias -= o_bias_grad * lr"
      ],
      "metadata": {
        "id": "Jk6DlbBn2gR2"
      },
      "execution_count": 105,
      "outputs": []
    },
    {
      "cell_type": "markdown",
      "source": [
        "Full Implementation"
      ],
      "metadata": {
        "id": "5c_gIY1a2j6t"
      }
    },
    {
      "cell_type": "code",
      "source": [
        "from sklearn.preprocessing import StandardScaler\n",
        "import math\n",
        "\n",
        "# Define predictors and target\n",
        "PREDICTORS = [\"tmax\", \"tmin\", \"rain\"]\n",
        "TARGET = \"tmax_tomorrow\"\n",
        "\n",
        "# Scale our data to have mean 0\n",
        "scaler = StandardScaler()\n",
        "data[PREDICTORS] = scaler.fit_transform(data[PREDICTORS])\n",
        "\n",
        "# Split into train, valid, test sets\n",
        "np.random.seed(0)\n",
        "split_data = np.split(data, [int(.7*len(data)), int(.85*len(data))])\n",
        "(train_x, train_y), (valid_x, valid_y), (test_x, test_y) = [[d[PREDICTORS].to_numpy(), d[[TARGET]].to_numpy()] for d in split_data]"
      ],
      "metadata": {
        "colab": {
          "base_uri": "https://localhost:8080/"
        },
        "id": "m9-j71kJ2olq",
        "outputId": "98a600b5-6273-431e-e5a9-d20cdd8536ed"
      },
      "execution_count": 106,
      "outputs": [
        {
          "output_type": "stream",
          "name": "stderr",
          "text": [
            "/usr/local/lib/python3.11/dist-packages/numpy/_core/fromnumeric.py:57: FutureWarning: 'DataFrame.swapaxes' is deprecated and will be removed in a future version. Please use 'DataFrame.transpose' instead.\n",
            "  return bound(*args, **kwds)\n"
          ]
        }
      ]
    },
    {
      "cell_type": "code",
      "source": [
        "def init_params(layer_conf):\n",
        "    layers = []\n",
        "    for i in range(1, len(layer_conf)):\n",
        "        np.random.seed(0)\n",
        "        k = 1/math.sqrt(layer_conf[i][\"hidden\"])\n",
        "        i_weight = np.random.rand(layer_conf[i-1][\"units\"], layer_conf[i][\"hidden\"]) * 2 * k - k\n",
        "\n",
        "        h_weight = np.random.rand(layer_conf[i][\"hidden\"], layer_conf[i][\"hidden\"]) * 2 * k - k\n",
        "        h_bias = np.random.rand(1, layer_conf[i][\"hidden\"]) * 2 * k - k\n",
        "\n",
        "        o_weight = np.random.rand(layer_conf[i][\"hidden\"], layer_conf[i][\"output\"]) * 2 * k - k\n",
        "        o_bias = np.random.rand(1, layer_conf[i][\"output\"]) * 2 * k - k\n",
        "\n",
        "        layers.append(\n",
        "            [i_weight, h_weight, h_bias, o_weight, o_bias]\n",
        "        )\n",
        "    return layers"
      ],
      "metadata": {
        "id": "hLh242iw2uWu"
      },
      "execution_count": 107,
      "outputs": []
    },
    {
      "cell_type": "code",
      "source": [
        "def forward(x, layers):\n",
        "    hiddens = []\n",
        "    outputs = []\n",
        "    for i in range(len(layers)):\n",
        "        i_weight, h_weight, h_bias, o_weight, o_bias = layers[i]\n",
        "        hidden = np.zeros((x.shape[0], i_weight.shape[1]))\n",
        "        output = np.zeros((x.shape[0], o_weight.shape[1]))\n",
        "        for j in range(x.shape[0]):\n",
        "            input_x = x[j,:][np.newaxis,:] @ i_weight\n",
        "            hidden_x = input_x + hidden[max(j-1,0),:][np.newaxis,:] @ h_weight + h_bias\n",
        "            # Activation.  tanh avoids outputs getting larger and larger.\n",
        "            hidden_x = np.tanh(hidden_x)\n",
        "            # Store hidden for use in backprop\n",
        "            hidden[j,:] = hidden_x\n",
        "\n",
        "            # Output layer\n",
        "            output_x = hidden_x @ o_weight + o_bias\n",
        "            output[j,:] = output_x\n",
        "        hiddens.append(hidden)\n",
        "        outputs.append(output)\n",
        "    return hiddens, outputs[-1]"
      ],
      "metadata": {
        "id": "TI2kosrb2yWZ"
      },
      "execution_count": 108,
      "outputs": []
    },
    {
      "cell_type": "code",
      "source": [
        "def backward(layers, x, lr, grad, hiddens):\n",
        "    for i in range(len(layers)):\n",
        "        i_weight, h_weight, h_bias, o_weight, o_bias = layers[i]\n",
        "        hidden = hiddens[i]\n",
        "        next_h_grad = None\n",
        "        i_weight_grad, h_weight_grad, h_bias_grad, o_weight_grad, o_bias_grad = [0] * 5\n",
        "\n",
        "        for j in range(x.shape[0] - 1, -1, -1):\n",
        "            # Add newaxis in the first dimension\n",
        "            out_grad = grad[j,:][np.newaxis, :]\n",
        "\n",
        "            # Output updates\n",
        "            # np.newaxis creates a size 1 axis, in this case transposing matrix\n",
        "            o_weight_grad += hidden[j,:][:, np.newaxis] @ out_grad\n",
        "            o_bias_grad += out_grad\n",
        "\n",
        "            # Propagate gradient to hidden unit\n",
        "            h_grad = out_grad @ o_weight.T\n",
        "\n",
        "            if j < x.shape[0] - 1:\n",
        "                # Then we multiply the gradient by the hidden weights to pull gradient from next hidden state to current hidden state\n",
        "                hh_grad = next_h_grad @ h_weight.T\n",
        "                # Add the gradients together to combine output contribution and hidden contribution\n",
        "                h_grad += hh_grad\n",
        "\n",
        "            # Pull the gradient across the current hidden nonlinearity\n",
        "            # derivative of tanh is 1 - tanh(x) ** 2\n",
        "            # So we take the output of tanh (next hidden state), and plug in\n",
        "            tanh_deriv = 1 - hidden[j][np.newaxis,:] ** 2\n",
        "\n",
        "            # next_h_grad @ np.diag(tanh_deriv_next) multiplies each element of next_h_grad by the deriv\n",
        "            # Effect is to pull value across nonlinearity\n",
        "            h_grad = np.multiply(h_grad, tanh_deriv)\n",
        "\n",
        "            # Store to compute h grad for previous sequence position\n",
        "            next_h_grad = h_grad.copy()\n",
        "\n",
        "            # If we're not at the very beginning\n",
        "            if j > 0:\n",
        "                # Multiply input from previous layer by post-nonlinearity grad at current layer\n",
        "                h_weight_grad += hidden[j-1][:, np.newaxis] @ h_grad\n",
        "                h_bias_grad += h_grad\n",
        "\n",
        "            i_weight_grad += x[j,:][:,np.newaxis] @ h_grad\n",
        "\n",
        "        # Normalize lr by number of sequence elements\n",
        "        lr = lr / x.shape[0]\n",
        "        i_weight -= i_weight_grad * lr\n",
        "        h_weight -= h_weight_grad * lr\n",
        "        h_bias -= h_bias_grad * lr\n",
        "        o_weight -= o_weight_grad * lr\n",
        "        o_bias -= o_bias_grad * lr\n",
        "        layers[i] = [i_weight, h_weight, h_bias, o_weight, o_bias]\n",
        "    return layers"
      ],
      "metadata": {
        "id": "y5YgzxkI22aA"
      },
      "execution_count": 109,
      "outputs": []
    },
    {
      "cell_type": "code",
      "source": [
        "epochs = 250\n",
        "lr = 1e-5\n",
        "\n",
        "layer_conf = [\n",
        "    {\"type\":\"input\", \"units\": 3},\n",
        "    {\"type\": \"rnn\", \"hidden\": 4, \"output\": 1}\n",
        "]\n",
        "layers = init_params(layer_conf)\n",
        "\n",
        "for epoch in range(epochs):\n",
        "    sequence_len = 7\n",
        "    epoch_loss = 0\n",
        "    for j in range(train_x.shape[0] - sequence_len):\n",
        "        seq_x = train_x[j:(j+sequence_len),]\n",
        "        seq_y = train_y[j:(j+sequence_len),]\n",
        "        hiddens, outputs = forward(seq_x, layers)\n",
        "        grad = mse_grad(seq_y, outputs)\n",
        "        params = backward(layers, seq_x, lr, grad, hiddens)\n",
        "        epoch_loss += mse(seq_y, outputs)\n",
        "\n",
        "    if epoch % 50 == 0:\n",
        "        sequence_len = 7\n",
        "        valid_loss = 0\n",
        "        for j in range(valid_x.shape[0] - sequence_len):\n",
        "            seq_x = valid_x[j:(j+sequence_len),]\n",
        "            seq_y = valid_y[j:(j+sequence_len),]\n",
        "            _, outputs = forward(seq_x, layers)\n",
        "            valid_loss += mse(seq_y, outputs)\n",
        "\n",
        "        print(f\"Epoch: {epoch} train loss {epoch_loss / len(train_x)} valid loss {valid_loss / len(valid_x)}\")"
      ],
      "metadata": {
        "colab": {
          "base_uri": "https://localhost:8080/"
        },
        "id": "16jQPAa33ACA",
        "outputId": "848ee900-00d1-44cd-ad43-b6fb9d3cf8b4"
      },
      "execution_count": 111,
      "outputs": [
        {
          "output_type": "stream",
          "name": "stdout",
          "text": [
            "Epoch: 0 train loss 3122.5944001445105 valid loss 2171.318686210205\n",
            "Epoch: 50 train loss 30.59319327531333 valid loss 30.568271740103093\n",
            "Epoch: 100 train loss 25.26398681354356 valid loss 24.435517510355375\n",
            "Epoch: 150 train loss 22.956762429531356 valid loss 22.177010971976838\n",
            "Epoch: 200 train loss 22.306774327704087 valid loss 21.55799220283406\n"
          ]
        }
      ]
    }
  ]
}